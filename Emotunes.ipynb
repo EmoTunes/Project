{
 "cells": [
  {
   "cell_type": "code",
   "execution_count": 1,
   "id": "62f66279",
   "metadata": {
    "execution": {
     "iopub.execute_input": "2023-03-11T20:58:40.465994Z",
     "iopub.status.busy": "2023-03-11T20:58:40.464878Z",
     "iopub.status.idle": "2023-03-11T20:58:40.485525Z",
     "shell.execute_reply": "2023-03-11T20:58:40.484133Z"
    },
    "papermill": {
     "duration": 0.034328,
     "end_time": "2023-03-11T20:58:40.489119",
     "exception": false,
     "start_time": "2023-03-11T20:58:40.454791",
     "status": "completed"
    },
    "tags": []
   },
   "outputs": [],
   "source": [
    "import os\n",
    "for dirname, _, filenames in os.walk('/kaggle/input'):\n",
    "    for filename in filenames:\n",
    "        print(os.path.join(dirname, filename))"
   ]
  },
  {
   "cell_type": "code",
   "execution_count": 2,
   "id": "bf726657",
   "metadata": {
    "execution": {
     "iopub.execute_input": "2023-03-11T20:58:40.504653Z",
     "iopub.status.busy": "2023-03-11T20:58:40.503774Z",
     "iopub.status.idle": "2023-03-11T20:58:42.109939Z",
     "shell.execute_reply": "2023-03-11T20:58:42.108617Z"
    },
    "papermill": {
     "duration": 1.61728,
     "end_time": "2023-03-11T20:58:42.113066",
     "exception": false,
     "start_time": "2023-03-11T20:58:40.495786",
     "status": "completed"
    },
    "tags": []
   },
   "outputs": [],
   "source": [
    "import nltk\n",
    "import pandas as pd\n",
    "import numpy as np\n",
    "import seaborn as sns"
   ]
  },
  {
   "cell_type": "code",
   "execution_count": 3,
   "id": "e2d46ace",
   "metadata": {
    "execution": {
     "iopub.execute_input": "2023-03-11T20:58:42.127511Z",
     "iopub.status.busy": "2023-03-11T20:58:42.127036Z",
     "iopub.status.idle": "2023-03-11T20:58:42.221065Z",
     "shell.execute_reply": "2023-03-11T20:58:42.219571Z"
    },
    "papermill": {
     "duration": 0.104875,
     "end_time": "2023-03-11T20:58:42.224171",
     "exception": false,
     "start_time": "2023-03-11T20:58:42.119296",
     "status": "completed"
    },
    "tags": []
   },
   "outputs": [],
   "source": [
    "train = pd.read_csv(\"C:\\\\Users\\\\navya\\\\Desktop\\\\MINI PROJECT\\\\Emotion_nb_dataset\\\\shuffled_emotion.csv\", header=None, names=['sentence','label'])\n",
    "test = pd.read_csv(\"C:\\\\Users\\\\navya\\\\Desktop\\\\MINI PROJECT\\\\Emotion_nb_dataset\\\\test.txt\", delimiter=';', header=None, names=['sentence','label'])\n",
    "val = pd.read_csv(\"C:\\\\Users\\\\navya\\\\Desktop\\\\MINI PROJECT\\\\Emotion_nb_dataset\\\\val.txt\", delimiter=';', header=None, names=['sentence','label'])"
   ]
  },
  {
   "cell_type": "code",
   "execution_count": 4,
   "id": "67ef4aae",
   "metadata": {
    "execution": {
     "iopub.execute_input": "2023-03-11T20:58:42.239490Z",
     "iopub.status.busy": "2023-03-11T20:58:42.239012Z",
     "iopub.status.idle": "2023-03-11T20:58:42.272619Z",
     "shell.execute_reply": "2023-03-11T20:58:42.271341Z"
    },
    "papermill": {
     "duration": 0.04391,
     "end_time": "2023-03-11T20:58:42.275256",
     "exception": false,
     "start_time": "2023-03-11T20:58:42.231346",
     "status": "completed"
    },
    "tags": []
   },
   "outputs": [
    {
     "data": {
      "text/html": [
       "<div>\n",
       "<style scoped>\n",
       "    .dataframe tbody tr th:only-of-type {\n",
       "        vertical-align: middle;\n",
       "    }\n",
       "\n",
       "    .dataframe tbody tr th {\n",
       "        vertical-align: top;\n",
       "    }\n",
       "\n",
       "    .dataframe thead th {\n",
       "        text-align: right;\n",
       "    }\n",
       "</style>\n",
       "<table border=\"1\" class=\"dataframe\">\n",
       "  <thead>\n",
       "    <tr style=\"text-align: right;\">\n",
       "      <th></th>\n",
       "      <th>sentence</th>\n",
       "      <th>label</th>\n",
       "    </tr>\n",
       "  </thead>\n",
       "  <tbody>\n",
       "    <tr>\n",
       "      <th>0</th>\n",
       "      <td>i always feel slightly worthless almost self c...</td>\n",
       "      <td>sadness</td>\n",
       "    </tr>\n",
       "    <tr>\n",
       "      <th>1</th>\n",
       "      <td>i cannot in good conscience encourage my young...</td>\n",
       "      <td>anger</td>\n",
       "    </tr>\n",
       "    <tr>\n",
       "      <th>2</th>\n",
       "      <td>i feel disappointed for so dont say sorry dont...</td>\n",
       "      <td>sadness</td>\n",
       "    </tr>\n",
       "    <tr>\n",
       "      <th>3</th>\n",
       "      <td>i don t mean this to be a serious recollection...</td>\n",
       "      <td>surprise</td>\n",
       "    </tr>\n",
       "    <tr>\n",
       "      <th>4</th>\n",
       "      <td>im not feeling real strong lately</td>\n",
       "      <td>joy</td>\n",
       "    </tr>\n",
       "    <tr>\n",
       "      <th>...</th>\n",
       "      <td>...</td>\n",
       "      <td>...</td>\n",
       "    </tr>\n",
       "    <tr>\n",
       "      <th>1995</th>\n",
       "      <td>im having ssa examination tomorrow in the morn...</td>\n",
       "      <td>sadness</td>\n",
       "    </tr>\n",
       "    <tr>\n",
       "      <th>1996</th>\n",
       "      <td>i constantly worry about their fight against n...</td>\n",
       "      <td>joy</td>\n",
       "    </tr>\n",
       "    <tr>\n",
       "      <th>1997</th>\n",
       "      <td>i feel its important to share this info for th...</td>\n",
       "      <td>joy</td>\n",
       "    </tr>\n",
       "    <tr>\n",
       "      <th>1998</th>\n",
       "      <td>i truly feel that if you are passionate enough...</td>\n",
       "      <td>joy</td>\n",
       "    </tr>\n",
       "    <tr>\n",
       "      <th>1999</th>\n",
       "      <td>i feel like i just wanna buy any cute make up ...</td>\n",
       "      <td>joy</td>\n",
       "    </tr>\n",
       "  </tbody>\n",
       "</table>\n",
       "<p>22290 rows × 2 columns</p>\n",
       "</div>"
      ],
      "text/plain": [
       "                                               sentence     label\n",
       "0     i always feel slightly worthless almost self c...   sadness\n",
       "1     i cannot in good conscience encourage my young...     anger\n",
       "2     i feel disappointed for so dont say sorry dont...   sadness\n",
       "3     i don t mean this to be a serious recollection...  surprise\n",
       "4                     im not feeling real strong lately       joy\n",
       "...                                                 ...       ...\n",
       "1995  im having ssa examination tomorrow in the morn...   sadness\n",
       "1996  i constantly worry about their fight against n...       joy\n",
       "1997  i feel its important to share this info for th...       joy\n",
       "1998  i truly feel that if you are passionate enough...       joy\n",
       "1999  i feel like i just wanna buy any cute make up ...       joy\n",
       "\n",
       "[22290 rows x 2 columns]"
      ]
     },
     "execution_count": 4,
     "metadata": {},
     "output_type": "execute_result"
    }
   ],
   "source": [
    "df_data = pd.concat([train, test,val])\n",
    "\n",
    "df_data"
   ]
  },
  {
   "cell_type": "code",
   "execution_count": 5,
   "id": "41b642c2",
   "metadata": {
    "execution": {
     "iopub.execute_input": "2023-03-11T20:58:42.290978Z",
     "iopub.status.busy": "2023-03-11T20:58:42.290499Z",
     "iopub.status.idle": "2023-03-11T20:58:42.404482Z",
     "shell.execute_reply": "2023-03-11T20:58:42.403094Z"
    },
    "papermill": {
     "duration": 0.125241,
     "end_time": "2023-03-11T20:58:42.407194",
     "exception": false,
     "start_time": "2023-03-11T20:58:42.281953",
     "status": "completed"
    },
    "tags": []
   },
   "outputs": [
    {
     "data": {
      "text/html": [
       "<div>\n",
       "<style scoped>\n",
       "    .dataframe tbody tr th:only-of-type {\n",
       "        vertical-align: middle;\n",
       "    }\n",
       "\n",
       "    .dataframe tbody tr th {\n",
       "        vertical-align: top;\n",
       "    }\n",
       "\n",
       "    .dataframe thead th {\n",
       "        text-align: right;\n",
       "    }\n",
       "</style>\n",
       "<table border=\"1\" class=\"dataframe\">\n",
       "  <thead>\n",
       "    <tr style=\"text-align: right;\">\n",
       "      <th></th>\n",
       "      <th>sentence</th>\n",
       "      <th>label</th>\n",
       "    </tr>\n",
       "  </thead>\n",
       "  <tbody>\n",
       "    <tr>\n",
       "      <th>0</th>\n",
       "      <td>i always feel slightly worthless almost self c...</td>\n",
       "      <td>sadness</td>\n",
       "    </tr>\n",
       "    <tr>\n",
       "      <th>1</th>\n",
       "      <td>i cannot in good conscience encourage my young...</td>\n",
       "      <td>anger</td>\n",
       "    </tr>\n",
       "    <tr>\n",
       "      <th>2</th>\n",
       "      <td>i feel disappointed for so dont say sorry dont...</td>\n",
       "      <td>sadness</td>\n",
       "    </tr>\n",
       "    <tr>\n",
       "      <th>3</th>\n",
       "      <td>i don t mean this to be a serious recollection...</td>\n",
       "      <td>surprise</td>\n",
       "    </tr>\n",
       "    <tr>\n",
       "      <th>4</th>\n",
       "      <td>im not feeling real strong lately</td>\n",
       "      <td>joy</td>\n",
       "    </tr>\n",
       "    <tr>\n",
       "      <th>...</th>\n",
       "      <td>...</td>\n",
       "      <td>...</td>\n",
       "    </tr>\n",
       "    <tr>\n",
       "      <th>22285</th>\n",
       "      <td>im having ssa examination tomorrow in the morn...</td>\n",
       "      <td>sadness</td>\n",
       "    </tr>\n",
       "    <tr>\n",
       "      <th>22286</th>\n",
       "      <td>i constantly worry about their fight against n...</td>\n",
       "      <td>joy</td>\n",
       "    </tr>\n",
       "    <tr>\n",
       "      <th>22287</th>\n",
       "      <td>i feel its important to share this info for th...</td>\n",
       "      <td>joy</td>\n",
       "    </tr>\n",
       "    <tr>\n",
       "      <th>22288</th>\n",
       "      <td>i truly feel that if you are passionate enough...</td>\n",
       "      <td>joy</td>\n",
       "    </tr>\n",
       "    <tr>\n",
       "      <th>22289</th>\n",
       "      <td>i feel like i just wanna buy any cute make up ...</td>\n",
       "      <td>joy</td>\n",
       "    </tr>\n",
       "  </tbody>\n",
       "</table>\n",
       "<p>22290 rows × 2 columns</p>\n",
       "</div>"
      ],
      "text/plain": [
       "                                                sentence     label\n",
       "0      i always feel slightly worthless almost self c...   sadness\n",
       "1      i cannot in good conscience encourage my young...     anger\n",
       "2      i feel disappointed for so dont say sorry dont...   sadness\n",
       "3      i don t mean this to be a serious recollection...  surprise\n",
       "4                      im not feeling real strong lately       joy\n",
       "...                                                  ...       ...\n",
       "22285  im having ssa examination tomorrow in the morn...   sadness\n",
       "22286  i constantly worry about their fight against n...       joy\n",
       "22287  i feel its important to share this info for th...       joy\n",
       "22288  i truly feel that if you are passionate enough...       joy\n",
       "22289  i feel like i just wanna buy any cute make up ...       joy\n",
       "\n",
       "[22290 rows x 2 columns]"
      ]
     },
     "execution_count": 5,
     "metadata": {},
     "output_type": "execute_result"
    }
   ],
   "source": [
    "df_data.to_csv (r'exportdata.txt', index=False)\n",
    "dt_data =  pd.read_csv(\"exportdata.txt\")\n",
    "\n",
    "dt_data"
   ]
  },
  {
   "cell_type": "code",
   "execution_count": 6,
   "id": "2bb6f9a8",
   "metadata": {
    "execution": {
     "iopub.execute_input": "2023-03-11T20:58:42.423184Z",
     "iopub.status.busy": "2023-03-11T20:58:42.422342Z",
     "iopub.status.idle": "2023-03-11T20:58:42.435027Z",
     "shell.execute_reply": "2023-03-11T20:58:42.433655Z"
    },
    "papermill": {
     "duration": 0.024184,
     "end_time": "2023-03-11T20:58:42.438211",
     "exception": false,
     "start_time": "2023-03-11T20:58:42.414027",
     "status": "completed"
    },
    "tags": []
   },
   "outputs": [
    {
     "name": "stdout",
     "output_type": "stream",
     "text": [
      "['sadness' 'anger' 'surprise' 'joy' 'love' 'fear']\n"
     ]
    }
   ],
   "source": [
    "print(train['label'].unique())"
   ]
  },
  {
   "cell_type": "code",
   "execution_count": 7,
   "id": "7d0a1304",
   "metadata": {},
   "outputs": [
    {
     "data": {
      "text/plain": [
       "<Axes: xlabel='label', ylabel='count'>"
      ]
     },
     "execution_count": 7,
     "metadata": {},
     "output_type": "execute_result"
    },
    {
     "data": {
      "image/png": "[encoded data removed]",
      "text/plain": [
       "<Figure size 640x480 with 1 Axes>"
      ]
     },
     "metadata": {},
     "output_type": "display_data"
    }
   ],
   "source": [
    "# Plot\n",
    "sns.countplot(x='label',data=df_data,width=0.8)"
   ]
  },
  {
   "cell_type": "code",
   "execution_count": 8,
   "id": "dc56c136",
   "metadata": {
    "execution": {
     "iopub.execute_input": "2023-03-11T20:58:42.454708Z",
     "iopub.status.busy": "2023-03-11T20:58:42.454180Z",
     "iopub.status.idle": "2023-03-11T20:58:42.460747Z",
     "shell.execute_reply": "2023-03-11T20:58:42.459249Z"
    },
    "papermill": {
     "duration": 0.017471,
     "end_time": "2023-03-11T20:58:42.463168",
     "exception": false,
     "start_time": "2023-03-11T20:58:42.445697",
     "status": "completed"
    },
    "tags": []
   },
   "outputs": [],
   "source": [
    "from sklearn import metrics\n",
    "from sklearn.metrics import precision_score\n",
    "from sklearn.metrics import recall_score\n",
    "from sklearn.metrics import f1_score\n",
    "from sklearn.metrics import confusion_matrix,classification_report\n",
    "import matplotlib.pyplot as plt"
   ]
  },
  {
   "cell_type": "code",
   "execution_count": 9,
   "id": "1e7633d5",
   "metadata": {
    "execution": {
     "iopub.execute_input": "2023-03-11T20:58:42.478898Z",
     "iopub.status.busy": "2023-03-11T20:58:42.478481Z",
     "iopub.status.idle": "2023-03-11T20:58:42.846968Z",
     "shell.execute_reply": "2023-03-11T20:58:42.845643Z"
    },
    "papermill": {
     "duration": 0.380147,
     "end_time": "2023-03-11T20:58:42.850117",
     "exception": false,
     "start_time": "2023-03-11T20:58:42.469970",
     "status": "completed"
    },
    "tags": []
   },
   "outputs": [
    {
     "name": "stderr",
     "output_type": "stream",
     "text": [
      "C:\\Users\\navya\\anaconda3\\lib\\site-packages\\sklearn\\feature_extraction\\text.py:528: UserWarning: The parameter 'token_pattern' will not be used since 'tokenizer' is not None'\n",
      "  warnings.warn(\n"
     ]
    }
   ],
   "source": [
    "from sklearn.feature_extraction.text import CountVectorizer\n",
    "from nltk.tokenize import RegexpTokenizer\n",
    "\n",
    "token = RegexpTokenizer(r'[a-zA-Z0-9]+')\n",
    "cv = CountVectorizer(stop_words='english', ngram_range=(1,1), tokenizer = token.tokenize)\n",
    "text = cv.fit_transform(dt_data['sentence'])"
   ]
  },
  {
   "cell_type": "code",
   "execution_count": 10,
   "id": "f4ab6d8d",
   "metadata": {
    "execution": {
     "iopub.execute_input": "2023-03-11T20:58:42.865482Z",
     "iopub.status.busy": "2023-03-11T20:58:42.865021Z",
     "iopub.status.idle": "2023-03-11T20:58:42.878157Z",
     "shell.execute_reply": "2023-03-11T20:58:42.877128Z"
    },
    "papermill": {
     "duration": 0.024215,
     "end_time": "2023-03-11T20:58:42.881052",
     "exception": false,
     "start_time": "2023-03-11T20:58:42.856837",
     "status": "completed"
    },
    "tags": []
   },
   "outputs": [],
   "source": [
    "from sklearn.model_selection import train_test_split\n",
    "\n",
    "X_train, X_test, y_train, y_test = train_test_split(text,dt_data['label'], test_size=0.30, random_state=5)"
   ]
  },
  {
   "cell_type": "code",
   "execution_count": 11,
   "id": "7d7299a2",
   "metadata": {
    "execution": {
     "iopub.execute_input": "2023-03-11T20:58:42.897195Z",
     "iopub.status.busy": "2023-03-11T20:58:42.896486Z",
     "iopub.status.idle": "2023-03-11T20:58:42.960734Z",
     "shell.execute_reply": "2023-03-11T20:58:42.959308Z"
    },
    "papermill": {
     "duration": 0.075487,
     "end_time": "2023-03-11T20:58:42.963452",
     "exception": false,
     "start_time": "2023-03-11T20:58:42.887965",
     "status": "completed"
    },
    "tags": []
   },
   "outputs": [
    {
     "data": {
      "text/html": [
       "<style>#sk-container-id-1 {color: black;background-color: white;}#sk-container-id-1 pre{padding: 0;}#sk-container-id-1 div.sk-toggleable {background-color: white;}#sk-container-id-1 label.sk-toggleable__label {cursor: pointer;display: block;width: 100%;margin-bottom: 0;padding: 0.3em;box-sizing: border-box;text-align: center;}#sk-container-id-1 label.sk-toggleable__label-arrow:before {content: \"▸\";float: left;margin-right: 0.25em;color: #696969;}#sk-container-id-1 label.sk-toggleable__label-arrow:hover:before {color: black;}#sk-container-id-1 div.sk-estimator:hover label.sk-toggleable__label-arrow:before {color: black;}#sk-container-id-1 div.sk-toggleable__content {max-height: 0;max-width: 0;overflow: hidden;text-align: left;background-color: #f0f8ff;}#sk-container-id-1 div.sk-toggleable__content pre {margin: 0.2em;color: black;border-radius: 0.25em;background-color: #f0f8ff;}#sk-container-id-1 input.sk-toggleable__control:checked~div.sk-toggleable__content {max-height: 200px;max-width: 100%;overflow: auto;}#sk-container-id-1 input.sk-toggleable__control:checked~label.sk-toggleable__label-arrow:before {content: \"▾\";}#sk-container-id-1 div.sk-estimator input.sk-toggleable__control:checked~label.sk-toggleable__label {background-color: #d4ebff;}#sk-container-id-1 div.sk-label input.sk-toggleable__control:checked~label.sk-toggleable__label {background-color: #d4ebff;}#sk-container-id-1 input.sk-hidden--visually {border: 0;clip: rect(1px 1px 1px 1px);clip: rect(1px, 1px, 1px, 1px);height: 1px;margin: -1px;overflow: hidden;padding: 0;position: absolute;width: 1px;}#sk-container-id-1 div.sk-estimator {font-family: monospace;background-color: #f0f8ff;border: 1px dotted black;border-radius: 0.25em;box-sizing: border-box;margin-bottom: 0.5em;}#sk-container-id-1 div.sk-estimator:hover {background-color: #d4ebff;}#sk-container-id-1 div.sk-parallel-item::after {content: \"\";width: 100%;border-bottom: 1px solid gray;flex-grow: 1;}#sk-container-id-1 div.sk-label:hover label.sk-toggleable__label {background-color: #d4ebff;}#sk-container-id-1 div.sk-serial::before {content: \"\";position: absolute;border-left: 1px solid gray;box-sizing: border-box;top: 0;bottom: 0;left: 50%;z-index: 0;}#sk-container-id-1 div.sk-serial {display: flex;flex-direction: column;align-items: center;background-color: white;padding-right: 0.2em;padding-left: 0.2em;position: relative;}#sk-container-id-1 div.sk-item {position: relative;z-index: 1;}#sk-container-id-1 div.sk-parallel {display: flex;align-items: stretch;justify-content: center;background-color: white;position: relative;}#sk-container-id-1 div.sk-item::before, #sk-container-id-1 div.sk-parallel-item::before {content: \"\";position: absolute;border-left: 1px solid gray;box-sizing: border-box;top: 0;bottom: 0;left: 50%;z-index: -1;}#sk-container-id-1 div.sk-parallel-item {display: flex;flex-direction: column;z-index: 1;position: relative;background-color: white;}#sk-container-id-1 div.sk-parallel-item:first-child::after {align-self: flex-end;width: 50%;}#sk-container-id-1 div.sk-parallel-item:last-child::after {align-self: flex-start;width: 50%;}#sk-container-id-1 div.sk-parallel-item:only-child::after {width: 0;}#sk-container-id-1 div.sk-dashed-wrapped {border: 1px dashed gray;margin: 0 0.4em 0.5em 0.4em;box-sizing: border-box;padding-bottom: 0.4em;background-color: white;}#sk-container-id-1 div.sk-label label {font-family: monospace;font-weight: bold;display: inline-block;line-height: 1.2em;}#sk-container-id-1 div.sk-label-container {text-align: center;}#sk-container-id-1 div.sk-container {/* jupyter's `normalize.less` sets `[hidden] { display: none; }` but bootstrap.min.css set `[hidden] { display: none !important; }` so we also need the `!important` here to be able to override the default hidden behavior on the sphinx rendered scikit-learn.org. See: https://github.com/scikit-learn/scikit-learn/issues/21755 */display: inline-block !important;position: relative;}#sk-container-id-1 div.sk-text-repr-fallback {display: none;}</style><div id=\"sk-container-id-1\" class=\"sk-top-container\"><div class=\"sk-text-repr-fallback\"><pre>MultinomialNB()</pre><b>In a Jupyter environment, please rerun this cell to show the HTML representation or trust the notebook. <br />On GitHub, the HTML representation is unable to render, please try loading this page with nbviewer.org.</b></div><div class=\"sk-container\" hidden><div class=\"sk-item\"><div class=\"sk-estimator sk-toggleable\"><input class=\"sk-toggleable__control sk-hidden--visually\" id=\"sk-estimator-id-1\" type=\"checkbox\" checked><label for=\"sk-estimator-id-1\" class=\"sk-toggleable__label sk-toggleable__label-arrow\">MultinomialNB</label><div class=\"sk-toggleable__content\"><pre>MultinomialNB()</pre></div></div></div></div></div>"
      ],
      "text/plain": [
       "MultinomialNB()"
      ]
     },
     "execution_count": 11,
     "metadata": {},
     "output_type": "execute_result"
    }
   ],
   "source": [
    "from sklearn.naive_bayes import GaussianNB, MultinomialNB, BernoulliNB\n",
    "mnb = MultinomialNB()\n",
    "mnb.fit(X_train, y_train)"
   ]
  },
  {
   "cell_type": "code",
   "execution_count": 12,
   "id": "457e0f69",
   "metadata": {
    "execution": {
     "iopub.execute_input": "2023-03-11T20:58:42.979821Z",
     "iopub.status.busy": "2023-03-11T20:58:42.978881Z",
     "iopub.status.idle": "2023-03-11T20:58:42.986848Z",
     "shell.execute_reply": "2023-03-11T20:58:42.985789Z"
    },
    "papermill": {
     "duration": 0.018892,
     "end_time": "2023-03-11T20:58:42.989425",
     "exception": false,
     "start_time": "2023-03-11T20:58:42.970533",
     "status": "completed"
    },
    "tags": []
   },
   "outputs": [],
   "source": [
    "predicted = mnb.predict(X_test)"
   ]
  },
  {
   "cell_type": "code",
   "execution_count": 13,
   "id": "50be5938",
   "metadata": {
    "execution": {
     "iopub.execute_input": "2023-03-11T20:58:43.006814Z",
     "iopub.status.busy": "2023-03-11T20:58:43.006003Z",
     "iopub.status.idle": "2023-03-11T20:58:43.103851Z",
     "shell.execute_reply": "2023-03-11T20:58:43.102505Z"
    },
    "papermill": {
     "duration": 0.109317,
     "end_time": "2023-03-11T20:58:43.106918",
     "exception": false,
     "start_time": "2023-03-11T20:58:42.997601",
     "status": "completed"
    },
    "tags": []
   },
   "outputs": [],
   "source": [
    "# acc_score = metrics.accuracy_score(predicted,y_test)\n",
    "accuracy=mnb.score(X_test,y_test)\n",
    "round(accuracy*100,2)\n",
    "prec_score = precision_score(y_test,predicted, average='macro')\n",
    "recall = recall_score(y_test, predicted,average='macro')\n",
    "f1 = f1_score(y_test,predicted,average='macro')\n",
    "matrix = confusion_matrix(y_test,predicted)\n",
    "\n"
   ]
  },
  {
   "cell_type": "code",
   "execution_count": 14,
   "id": "651b7b1c",
   "metadata": {
    "execution": {
     "iopub.execute_input": "2023-03-11T20:58:43.123126Z",
     "iopub.status.busy": "2023-03-11T20:58:43.122180Z",
     "iopub.status.idle": "2023-03-11T20:58:43.130217Z",
     "shell.execute_reply": "2023-03-11T20:58:43.129259Z"
    },
    "papermill": {
     "duration": 0.019148,
     "end_time": "2023-03-11T20:58:43.132981",
     "exception": false,
     "start_time": "2023-03-11T20:58:43.113833",
     "status": "completed"
    },
    "tags": []
   },
   "outputs": [],
   "source": [
    "def plot_confusion_matrix (ytrue,ypreds,labels):\n",
    "    cm = confusion_matrix(ytrue, ypreds, normalize=\"true\")\n",
    "    fig, ax = plt.subplots(figsize=(3,3))\n",
    "    dis = metrics.ConfusionMatrixDisplay(confusion_matrix = cm, display_labels = labels)\n",
    "    dis.plot(cmap='Blues',values_format=\"0.2f\", ax=ax, colorbar=False)\n",
    "    plt.title(\"Sentiment Confusion Matrix\")\n",
    "    fig.set_size_inches(10,10)\n",
    "    _ = plt.show()"
   ]
  },
  {
   "cell_type": "code",
   "execution_count": 15,
   "id": "b6e2a03e",
   "metadata": {
    "execution": {
     "iopub.execute_input": "2023-03-11T20:58:43.150845Z",
     "iopub.status.busy": "2023-03-11T20:58:43.148781Z",
     "iopub.status.idle": "2023-03-11T20:58:43.265571Z",
     "shell.execute_reply": "2023-03-11T20:58:43.263996Z"
    },
    "papermill": {
     "duration": 0.128366,
     "end_time": "2023-03-11T20:58:43.268423",
     "exception": false,
     "start_time": "2023-03-11T20:58:43.140057",
     "status": "completed"
    },
    "tags": []
   },
   "outputs": [
    {
     "name": "stdout",
     "output_type": "stream",
     "text": [
      "Accuracy: 78.99%\n",
      "Precision: 82.65%\n",
      "Recall: 61.57%\n",
      "F1 Score:  0.653896380776795\n",
      "\n",
      "\n",
      "              precision    recall  f1-score   support\n",
      "\n",
      "       anger       0.92      0.71      0.80       904\n",
      "        fear       0.86      0.63      0.73       764\n",
      "         joy       0.76      0.94      0.84      2247\n",
      "        love       0.82      0.35      0.49       600\n",
      "     sadness       0.77      0.93      0.84      1930\n",
      "    surprise       0.84      0.13      0.22       242\n",
      "\n",
      "    accuracy                           0.79      6687\n",
      "   macro avg       0.83      0.62      0.65      6687\n",
      "weighted avg       0.80      0.79      0.77      6687\n",
      "\n"
     ]
    }
   ],
   "source": [
    "print(str('Accuracy: '+'{:04.2f}'.format(accuracy*100))+'%')\n",
    "print(str('Precision: '+'{:04.2f}'.format(prec_score*100))+'%')\n",
    "print(str('Recall: '+'{:04.2f}'.format(recall*100))+'%')\n",
    "print('F1 Score: ',f1)\n",
    "print('\\n')\n",
    "print(classification_report(y_test,predicted))"
   ]
  },
  {
   "cell_type": "markdown",
   "id": "c1010b86",
   "metadata": {
    "papermill": {
     "duration": 0.006583,
     "end_time": "2023-03-11T20:58:43.281980",
     "exception": false,
     "start_time": "2023-03-11T20:58:43.275397",
     "status": "completed"
    },
    "tags": []
   },
   "source": [
    "'sadness' 'anger' 'love' 'surprise' 'fear' 'joy'"
   ]
  },
  {
   "cell_type": "code",
   "execution_count": 16,
   "id": "de3246f4",
   "metadata": {
    "execution": {
     "iopub.execute_input": "2023-03-11T20:58:43.298468Z",
     "iopub.status.busy": "2023-03-11T20:58:43.297214Z",
     "iopub.status.idle": "2023-03-11T20:58:43.753616Z",
     "shell.execute_reply": "2023-03-11T20:58:43.752520Z"
    },
    "papermill": {
     "duration": 0.46724,
     "end_time": "2023-03-11T20:58:43.756139",
     "exception": false,
     "start_time": "2023-03-11T20:58:43.288899",
     "status": "completed"
    },
    "tags": []
   },
   "outputs": [
    {
     "data": {
      "image/png": "[encoded data removed]",
      "text/plain": [
       "<Figure size 1000x1000 with 1 Axes>"
      ]
     },
     "metadata": {},
     "output_type": "display_data"
    }
   ],
   "source": [
    "labels = ['sadness','anger','love','surprise','fear','joy']\n",
    "plot_confusion_matrix ( y_test, predicted,labels)"
   ]
  },
  {
   "cell_type": "markdown",
   "id": "417cb01e",
   "metadata": {},
   "source": []
  },
  {
   "cell_type": "code",
   "execution_count": 17,
   "id": "20121496",
   "metadata": {
    "execution": {
     "iopub.execute_input": "2023-03-11T20:58:44.628932Z",
     "iopub.status.busy": "2023-03-11T20:58:44.627752Z",
     "iopub.status.idle": "2023-03-11T20:58:44.636082Z",
     "shell.execute_reply": "2023-03-11T20:58:44.634347Z"
    },
    "papermill": {
     "duration": 0.02237,
     "end_time": "2023-03-11T20:58:44.639024",
     "exception": false,
     "start_time": "2023-03-11T20:58:44.616654",
     "status": "completed"
    },
    "tags": []
   },
   "outputs": [
    {
     "name": "stdout",
     "output_type": "stream",
     "text": [
      "['sadness']\n"
     ]
    }
   ],
   "source": [
    "test_data = ['ive been coughing for the past few days now and my stomach muscles are definitely feeling rather tender the sore throat is a new development as is the runny nose']\n",
    "test_result = mnb.predict(cv.transform(test_data))\n",
    "\n",
    "print(test_result)"
   ]
  },
  {
   "cell_type": "code",
   "execution_count": 19,
   "id": "ffcd6c42",
   "metadata": {},
   "outputs": [],
   "source": [
    "import pickle\n",
    "pipeline_file = open(\"Emotunes_nb.pkl\",\"wb\")\n",
    "pickle.dump(mnb,pipeline_file)\n",
    "pipeline_file.close()"
   ]
  },
  {
   "cell_type": "code",
   "execution_count": null,
   "id": "29d91aa6",
   "metadata": {},
   "outputs": [],
   "source": []
  }
 ],
 "metadata": {
  "kernelspec": {
   "display_name": "Python 3 (ipykernel)",
   "language": "python",
   "name": "python3"
  },
  "language_info": {
   "codemirror_mode": {
    "name": "ipython",
    "version": 3
   },
   "file_extension": ".py",
   "mimetype": "text/x-python",
   "name": "python",
   "nbconvert_exporter": "python",
   "pygments_lexer": "ipython3",
   "version": "3.10.9"
  },
  "papermill": {
   "default_parameters": {},
   "duration": 16.831803,
   "end_time": "2023-03-11T20:58:45.474550",
   "environment_variables": {},
   "exception": null,
   "input_path": "__notebook__.ipynb",
   "output_path": "__notebook__.ipynb",
   "parameters": {},
   "start_time": "2023-03-11T20:58:28.642747",
   "version": "2.4.0"
  }
 },
 "nbformat": 4,
 "nbformat_minor": 5
}
